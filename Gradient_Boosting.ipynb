{
 "cells": [
  {
   "cell_type": "code",
   "execution_count": 0,
   "outputs": [],
   "source": [],
   "metadata": {
    "collapsed": false,
    "pycharm": {
     "name": "#%%\n"
    }
   }
  },
  {
   "cell_type": "code",
   "execution_count": 1,
   "outputs": [
    {
     "name": "stdout",
     "output_type": "stream",
     "text": [
      "Opened database successfully\n"
     ]
    }
   ],
   "source": [
    "from configparser import ConfigParser\n",
    "import psycopg2\n",
    "import numpy as np\n",
    "import pandas as pd\n",
    "from sklearn.ensemble import GradientBoostingClassifier\n",
    "from sklearn.model_selection import train_test_split\n",
    "\n",
    "from sklearn.svm import LinearSVC\n",
    "from sklearn.metrics import recall_score, precision_score, accuracy_score\n",
    "import matplotlib.pyplot as plt\n",
    "from sklearn.impute import SimpleImputer\n",
    "#Can be very helpful to notice any imbalance in classes\n",
    "from collections import Counter\n",
    "\n",
    "\n",
    "try:\n",
    "    conn = psycopg2.connect(database=\"group_26\", user=\"ywang657\", password=\"\", host=\"www.eecs.uottawa.ca\", port=\"15432\")\n",
    "\n",
    "    print (\"Opened database successfully\")\n",
    "    cursor = conn.cursor()\n",
    "except (Exception, psycopg2.DatabaseError) as error:\n",
    "    print(error)"
   ],
   "metadata": {
    "collapsed": false,
    "pycharm": {
     "name": "#%%\n"
    }
   }
  },
  {
   "cell_type": "code",
   "execution_count": 2,
   "outputs": [],
   "source": [
    "#选择preprocess的数据\n",
    "try:\n",
    "    #Lets get our data\n",
    "    cursor.execute(\"SELECT week_in_year,age_group, client_gender, case_acquisitioninfo, rain_mm, snow_cm,\\\n",
    "                   status_phu, isresolved, isfatal from fact_table as fact inner join patient_dimension as patient\\\n",
    "                   on fact.patient_key = patient.surrogate_key inner join weather_dimension\\\n",
    "                   as weather on fact.weather_key=weather.surrogate_key inner join special_measures_dimension as special on fact.special_measures_key=special.surrogate_key\\\n",
    "                   inner join date_dimension as dated on fact.onset_date_key=dated.surrogate_key\"\n",
    "                  )\n",
    "\n",
    "    #Get the complete result set. It will be a list of tuples where each tuple is a row from the result set\n",
    "    result_list = cursor.fetchall()\n",
    "\n",
    "except (Exception, psycopg2.DatabaseError) as error:\n",
    "    print(error)\n"
   ],
   "metadata": {
    "collapsed": false,
    "pycharm": {
     "name": "#%%\n"
    }
   }
  },
  {
   "cell_type": "code",
   "execution_count": 3,
   "outputs": [],
   "source": [
    "result_df = pd.DataFrame(result_list, columns=[\"week_in_year\",\"age_group\", \"client_gender\",\n",
    "\n",
    "                                               \"case_acquisitioninfo\",\"rain_mm\",\"snow_cm\",\"status_phu\",\"isresolved\",\"isfatal\"])"
   ],
   "metadata": {
    "collapsed": false,
    "pycharm": {
     "name": "#%%\n"
    }
   }
  },
  {
   "cell_type": "code",
   "execution_count": 4,
   "outputs": [
    {
     "data": {
      "text/plain": "   week_in_year age_group client_gender case_acquisitioninfo  rain_mm  \\\n0            51       80s        FEMALE                   CC      NaN   \n1            50       20s          MALE    NO KNOWN EPI LINK      NaN   \n2            51       30s        FEMALE                   CC      0.0   \n3            50       20s          MALE    NO KNOWN EPI LINK      NaN   \n4            50       20s          MALE                   CC      NaN   \n\n   snow_cm status_phu  isresolved  isfatal  \n0      NaN   Lockdown           1        0  \n1      NaN   Lockdown           1        0  \n2      0.0    Control           1        0  \n3      NaN   Lockdown           1        0  \n4      NaN   Lockdown           1        0  ",
      "text/html": "<div>\n<style scoped>\n    .dataframe tbody tr th:only-of-type {\n        vertical-align: middle;\n    }\n\n    .dataframe tbody tr th {\n        vertical-align: top;\n    }\n\n    .dataframe thead th {\n        text-align: right;\n    }\n</style>\n<table border=\"1\" class=\"dataframe\">\n  <thead>\n    <tr style=\"text-align: right;\">\n      <th></th>\n      <th>week_in_year</th>\n      <th>age_group</th>\n      <th>client_gender</th>\n      <th>case_acquisitioninfo</th>\n      <th>rain_mm</th>\n      <th>snow_cm</th>\n      <th>status_phu</th>\n      <th>isresolved</th>\n      <th>isfatal</th>\n    </tr>\n  </thead>\n  <tbody>\n    <tr>\n      <th>0</th>\n      <td>51</td>\n      <td>80s</td>\n      <td>FEMALE</td>\n      <td>CC</td>\n      <td>NaN</td>\n      <td>NaN</td>\n      <td>Lockdown</td>\n      <td>1</td>\n      <td>0</td>\n    </tr>\n    <tr>\n      <th>1</th>\n      <td>50</td>\n      <td>20s</td>\n      <td>MALE</td>\n      <td>NO KNOWN EPI LINK</td>\n      <td>NaN</td>\n      <td>NaN</td>\n      <td>Lockdown</td>\n      <td>1</td>\n      <td>0</td>\n    </tr>\n    <tr>\n      <th>2</th>\n      <td>51</td>\n      <td>30s</td>\n      <td>FEMALE</td>\n      <td>CC</td>\n      <td>0.0</td>\n      <td>0.0</td>\n      <td>Control</td>\n      <td>1</td>\n      <td>0</td>\n    </tr>\n    <tr>\n      <th>3</th>\n      <td>50</td>\n      <td>20s</td>\n      <td>MALE</td>\n      <td>NO KNOWN EPI LINK</td>\n      <td>NaN</td>\n      <td>NaN</td>\n      <td>Lockdown</td>\n      <td>1</td>\n      <td>0</td>\n    </tr>\n    <tr>\n      <th>4</th>\n      <td>50</td>\n      <td>20s</td>\n      <td>MALE</td>\n      <td>CC</td>\n      <td>NaN</td>\n      <td>NaN</td>\n      <td>Lockdown</td>\n      <td>1</td>\n      <td>0</td>\n    </tr>\n  </tbody>\n</table>\n</div>"
     },
     "execution_count": 4,
     "metadata": {},
     "output_type": "execute_result"
    }
   ],
   "source": [
    "result_df.head()"
   ],
   "metadata": {
    "collapsed": false,
    "pycharm": {
     "name": "#%%\n"
    }
   }
  },
  {
   "cell_type": "code",
   "execution_count": 4,
   "outputs": [],
   "source": [],
   "metadata": {
    "collapsed": false,
    "pycharm": {
     "name": "#%%\n"
    }
   }
  },
  {
   "cell_type": "code",
   "execution_count": 5,
   "outputs": [
    {
     "data": {
      "text/plain": "<AxesSubplot:>"
     },
     "execution_count": 5,
     "metadata": {},
     "output_type": "execute_result"
    },
    {
     "data": {
      "text/plain": "<Figure size 432x288 with 1 Axes>",
      "image/png": "[encoded data removed]"
     },
     "metadata": {
      "needs_background": "light"
     },
     "output_type": "display_data"
    }
   ],
   "source": [
    "#Part A的第一部分，把数据plot出来\n",
    "age=result_df.age_group.value_counts()\n",
    "age.plot()"
   ],
   "metadata": {
    "collapsed": false,
    "pycharm": {
     "name": "#%%\n"
    }
   }
  },
  {
   "cell_type": "code",
   "execution_count": 6,
   "outputs": [
    {
     "data": {
      "text/plain": "<AxesSubplot:>"
     },
     "execution_count": 6,
     "metadata": {},
     "output_type": "execute_result"
    },
    {
     "data": {
      "text/plain": "<Figure size 432x288 with 1 Axes>",
      "image/png": "[encoded data removed]"
     },
     "metadata": {
      "needs_background": "light"
     },
     "output_type": "display_data"
    }
   ],
   "source": [
    "week=result_df.week_in_year.value_counts()\n",
    "week.plot(kind='bar')"
   ],
   "metadata": {
    "collapsed": false,
    "pycharm": {
     "name": "#%%\n"
    }
   }
  },
  {
   "cell_type": "code",
   "execution_count": 7,
   "outputs": [
    {
     "data": {
      "text/plain": "<AxesSubplot:>"
     },
     "execution_count": 7,
     "metadata": {},
     "output_type": "execute_result"
    },
    {
     "data": {
      "text/plain": "<Figure size 432x288 with 1 Axes>",
      "image/png": "[encoded data removed]"
     },
     "metadata": {
      "needs_background": "light"
     },
     "output_type": "display_data"
    }
   ],
   "source": [
    "ca=result_df.case_acquisitioninfo.value_counts()\n",
    "ca.plot(kind=\"bar\")"
   ],
   "metadata": {
    "collapsed": false,
    "pycharm": {
     "name": "#%%\n"
    }
   }
  },
  {
   "cell_type": "code",
   "execution_count": 8,
   "outputs": [
    {
     "data": {
      "text/plain": "<AxesSubplot:>"
     },
     "execution_count": 8,
     "metadata": {},
     "output_type": "execute_result"
    },
    {
     "data": {
      "text/plain": "<Figure size 432x288 with 1 Axes>",
      "image/png": "[encoded data removed]"
     },
     "metadata": {
      "needs_background": "light"
     },
     "output_type": "display_data"
    }
   ],
   "source": [
    "st=result_df.status_phu.value_counts()\n",
    "st.plot()"
   ],
   "metadata": {
    "collapsed": false,
    "pycharm": {
     "name": "#%%\n"
    }
   }
  },
  {
   "cell_type": "code",
   "execution_count": 9,
   "outputs": [],
   "source": [
    "result_df['rain_mm'].fillna(0.0, inplace=True)\n",
    "result_df['snow_cm'].fillna(0.0, inplace=True)"
   ],
   "metadata": {
    "collapsed": false,
    "pycharm": {
     "name": "#%%\n"
    }
   }
  },
  {
   "cell_type": "code",
   "execution_count": 10,
   "outputs": [
    {
     "data": {
      "text/plain": "   week_in_year age_group client_gender case_acquisitioninfo  rain_mm  \\\n0            51       80s        FEMALE                   CC      0.0   \n1            50       20s          MALE    NO KNOWN EPI LINK      0.0   \n2            51       30s        FEMALE                   CC      0.0   \n3            50       20s          MALE    NO KNOWN EPI LINK      0.0   \n4            50       20s          MALE                   CC      0.0   \n\n   snow_cm status_phu  isresolved  isfatal  \n0      0.0   Lockdown           1        0  \n1      0.0   Lockdown           1        0  \n2      0.0    Control           1        0  \n3      0.0   Lockdown           1        0  \n4      0.0   Lockdown           1        0  ",
      "text/html": "<div>\n<style scoped>\n    .dataframe tbody tr th:only-of-type {\n        vertical-align: middle;\n    }\n\n    .dataframe tbody tr th {\n        vertical-align: top;\n    }\n\n    .dataframe thead th {\n        text-align: right;\n    }\n</style>\n<table border=\"1\" class=\"dataframe\">\n  <thead>\n    <tr style=\"text-align: right;\">\n      <th></th>\n      <th>week_in_year</th>\n      <th>age_group</th>\n      <th>client_gender</th>\n      <th>case_acquisitioninfo</th>\n      <th>rain_mm</th>\n      <th>snow_cm</th>\n      <th>status_phu</th>\n      <th>isresolved</th>\n      <th>isfatal</th>\n    </tr>\n  </thead>\n  <tbody>\n    <tr>\n      <th>0</th>\n      <td>51</td>\n      <td>80s</td>\n      <td>FEMALE</td>\n      <td>CC</td>\n      <td>0.0</td>\n      <td>0.0</td>\n      <td>Lockdown</td>\n      <td>1</td>\n      <td>0</td>\n    </tr>\n    <tr>\n      <th>1</th>\n      <td>50</td>\n      <td>20s</td>\n      <td>MALE</td>\n      <td>NO KNOWN EPI LINK</td>\n      <td>0.0</td>\n      <td>0.0</td>\n      <td>Lockdown</td>\n      <td>1</td>\n      <td>0</td>\n    </tr>\n    <tr>\n      <th>2</th>\n      <td>51</td>\n      <td>30s</td>\n      <td>FEMALE</td>\n      <td>CC</td>\n      <td>0.0</td>\n      <td>0.0</td>\n      <td>Control</td>\n      <td>1</td>\n      <td>0</td>\n    </tr>\n    <tr>\n      <th>3</th>\n      <td>50</td>\n      <td>20s</td>\n      <td>MALE</td>\n      <td>NO KNOWN EPI LINK</td>\n      <td>0.0</td>\n      <td>0.0</td>\n      <td>Lockdown</td>\n      <td>1</td>\n      <td>0</td>\n    </tr>\n    <tr>\n      <th>4</th>\n      <td>50</td>\n      <td>20s</td>\n      <td>MALE</td>\n      <td>CC</td>\n      <td>0.0</td>\n      <td>0.0</td>\n      <td>Lockdown</td>\n      <td>1</td>\n      <td>0</td>\n    </tr>\n  </tbody>\n</table>\n</div>"
     },
     "execution_count": 10,
     "metadata": {},
     "output_type": "execute_result"
    }
   ],
   "source": [
    "result_df.head()"
   ],
   "metadata": {
    "collapsed": false,
    "pycharm": {
     "name": "#%%\n"
    }
   }
  },
  {
   "cell_type": "code",
   "execution_count": 10,
   "outputs": [],
   "source": [],
   "metadata": {
    "collapsed": false,
    "pycharm": {
     "name": "#%%\n"
    }
   }
  },
  {
   "cell_type": "code",
   "execution_count": 11,
   "outputs": [
    {
     "data": {
      "text/plain": "<AxesSubplot:>"
     },
     "execution_count": 11,
     "metadata": {},
     "output_type": "execute_result"
    },
    {
     "data": {
      "text/plain": "<Figure size 432x288 with 1 Axes>",
      "image/png": "[encoded data removed]"
     },
     "metadata": {
      "needs_background": "light"
     },
     "output_type": "display_data"
    }
   ],
   "source": [
    "reso=result_df.isresolved.value_counts()\n",
    "reso.plot(kind='bar')\n"
   ],
   "metadata": {
    "collapsed": false,
    "pycharm": {
     "name": "#%%\n"
    }
   }
  },
  {
   "cell_type": "code",
   "execution_count": 12,
   "outputs": [
    {
     "data": {
      "text/plain": "<AxesSubplot:>"
     },
     "execution_count": 12,
     "metadata": {},
     "output_type": "execute_result"
    },
    {
     "data": {
      "text/plain": "<Figure size 432x288 with 1 Axes>",
      "image/png": "[encoded data removed]"
     },
     "metadata": {
      "needs_background": "light"
     },
     "output_type": "display_data"
    }
   ],
   "source": [
    "fat=result_df.isfatal.value_counts()\n",
    "fat.plot(kind='bar')"
   ],
   "metadata": {
    "collapsed": false,
    "pycharm": {
     "name": "#%%\n"
    }
   }
  },
  {
   "cell_type": "code",
   "execution_count": 13,
   "outputs": [
    {
     "name": "stdout",
     "output_type": "stream",
     "text": [
      "Counter({1: 75163, 0: 1158})\n"
     ]
    }
   ],
   "source": [
    "resolved=Counter(result_df['isresolved'])\n",
    "print(resolved)"
   ],
   "metadata": {
    "collapsed": false,
    "pycharm": {
     "name": "#%%\n"
    }
   }
  },
  {
   "cell_type": "code",
   "execution_count": 14,
   "outputs": [
    {
     "name": "stdout",
     "output_type": "stream",
     "text": [
      "Counter({0: 75177, 1: 1144})\n"
     ]
    }
   ],
   "source": [
    "fatal=Counter(result_df['isfatal'])\n",
    "print(fatal)"
   ],
   "metadata": {
    "collapsed": false,
    "pycharm": {
     "name": "#%%\n"
    }
   }
  },
  {
   "cell_type": "code",
   "execution_count": 15,
   "outputs": [],
   "source": [
    "# 这个部分做的 isresolved 和 is fatal 的 undersampling\n",
    "no_frauds = len(result_df[result_df['isresolved'] == 0])\n",
    "non_fraud_indices = result_df[result_df.isresolved == 1].index\n",
    "random_indices = np.random.choice(non_fraud_indices,no_frauds, replace=False)\n",
    "fraud_indices = result_df[result_df.isresolved == 0].index\n",
    "under_sample_indices = np.concatenate([fraud_indices,random_indices])\n",
    "result_df = result_df.loc[under_sample_indices]\n",
    "\n",
    "no_frauds = len(result_df[result_df['isfatal'] == 1])\n",
    "non_fraud_indices = result_df[result_df.isfatal == 0].index\n",
    "random_indices = np.random.choice(non_fraud_indices,no_frauds, replace=False)\n",
    "fraud_indices = result_df[result_df.isfatal== 1].index\n",
    "under_sample_indices = np.concatenate([fraud_indices,random_indices])\n",
    "result_df = result_df.loc[under_sample_indices]"
   ],
   "metadata": {
    "collapsed": false,
    "pycharm": {
     "name": "#%%\n"
    }
   }
  },
  {
   "cell_type": "code",
   "execution_count": 16,
   "outputs": [],
   "source": [
    "y = result_df['isresolved']\n",
    "#Drop the column for the next step\n",
    "result_df.drop(columns=['isresolved'], inplace=True)\n",
    "result_df.drop(columns=['isfatal'], inplace=True)"
   ],
   "metadata": {
    "collapsed": false,
    "pycharm": {
     "name": "#%%\n"
    }
   }
  },
  {
   "cell_type": "code",
   "execution_count": 17,
   "outputs": [
    {
     "data": {
      "text/plain": "     week_in_year age_group client_gender case_acquisitioninfo  rain_mm  \\\n36             51       80s          MALE                   OB      0.0   \n55             51       90+          MALE                   OB      0.0   \n143            47       90+          MALE                   OB      0.0   \n315            51       70s        FEMALE                   CC      0.0   \n356            51       90+        FEMALE                   OB      0.0   \n\n     snow_cm status_phu  \n36       0.0    Control  \n55       0.0   Lockdown  \n143      0.0   Restrict  \n315      0.0   Lockdown  \n356      0.0   Lockdown  ",
      "text/html": "<div>\n<style scoped>\n    .dataframe tbody tr th:only-of-type {\n        vertical-align: middle;\n    }\n\n    .dataframe tbody tr th {\n        vertical-align: top;\n    }\n\n    .dataframe thead th {\n        text-align: right;\n    }\n</style>\n<table border=\"1\" class=\"dataframe\">\n  <thead>\n    <tr style=\"text-align: right;\">\n      <th></th>\n      <th>week_in_year</th>\n      <th>age_group</th>\n      <th>client_gender</th>\n      <th>case_acquisitioninfo</th>\n      <th>rain_mm</th>\n      <th>snow_cm</th>\n      <th>status_phu</th>\n    </tr>\n  </thead>\n  <tbody>\n    <tr>\n      <th>36</th>\n      <td>51</td>\n      <td>80s</td>\n      <td>MALE</td>\n      <td>OB</td>\n      <td>0.0</td>\n      <td>0.0</td>\n      <td>Control</td>\n    </tr>\n    <tr>\n      <th>55</th>\n      <td>51</td>\n      <td>90+</td>\n      <td>MALE</td>\n      <td>OB</td>\n      <td>0.0</td>\n      <td>0.0</td>\n      <td>Lockdown</td>\n    </tr>\n    <tr>\n      <th>143</th>\n      <td>47</td>\n      <td>90+</td>\n      <td>MALE</td>\n      <td>OB</td>\n      <td>0.0</td>\n      <td>0.0</td>\n      <td>Restrict</td>\n    </tr>\n    <tr>\n      <th>315</th>\n      <td>51</td>\n      <td>70s</td>\n      <td>FEMALE</td>\n      <td>CC</td>\n      <td>0.0</td>\n      <td>0.0</td>\n      <td>Lockdown</td>\n    </tr>\n    <tr>\n      <th>356</th>\n      <td>51</td>\n      <td>90+</td>\n      <td>FEMALE</td>\n      <td>OB</td>\n      <td>0.0</td>\n      <td>0.0</td>\n      <td>Lockdown</td>\n    </tr>\n  </tbody>\n</table>\n</div>"
     },
     "execution_count": 17,
     "metadata": {},
     "output_type": "execute_result"
    }
   ],
   "source": [
    "result_df.head()"
   ],
   "metadata": {
    "collapsed": false,
    "pycharm": {
     "name": "#%%\n"
    }
   }
  },
  {
   "cell_type": "code",
   "execution_count": 18,
   "outputs": [
    {
     "data": {
      "text/plain": "     week_in_year  rain_mm  snow_cm  age_group_20s  age_group_30s  \\\n36             51      0.0      0.0              0              0   \n55             51      0.0      0.0              0              0   \n143            47      0.0      0.0              0              0   \n315            51      0.0      0.0              0              0   \n356            51      0.0      0.0              0              0   \n\n     age_group_40s  age_group_50s  age_group_60s  age_group_70s  \\\n36               0              0              0              0   \n55               0              0              0              0   \n143              0              0              0              0   \n315              0              0              0              1   \n356              0              0              0              0   \n\n     age_group_80s  ...  case_acquisitioninfo_MISSING INFORMATION  \\\n36               1  ...                                         0   \n55               0  ...                                         0   \n143              0  ...                                         0   \n315              0  ...                                         0   \n356              0  ...                                         0   \n\n     case_acquisitioninfo_NO KNOWN EPI LINK  case_acquisitioninfo_OB  \\\n36                                        0                        1   \n55                                        0                        1   \n143                                       0                        1   \n315                                       0                        0   \n356                                       0                        1   \n\n     case_acquisitioninfo_TRAVEL  status_phu_Control  status_phu_Lockdown  \\\n36                             0                   1                    0   \n55                             0                   0                    1   \n143                            0                   0                    0   \n315                            0                   0                    1   \n356                            0                   0                    1   \n\n     status_phu_Other  status_phu_Protect  status_phu_Restrict  \\\n36                  0                   0                    0   \n55                  0                   0                    0   \n143                 0                   0                    1   \n315                 0                   0                    0   \n356                 0                   0                    0   \n\n     status_phu_Stay-at-home  \n36                         0  \n55                         0  \n143                        0  \n315                        0  \n356                        0  \n\n[5 rows x 26 columns]",
      "text/html": "<div>\n<style scoped>\n    .dataframe tbody tr th:only-of-type {\n        vertical-align: middle;\n    }\n\n    .dataframe tbody tr th {\n        vertical-align: top;\n    }\n\n    .dataframe thead th {\n        text-align: right;\n    }\n</style>\n<table border=\"1\" class=\"dataframe\">\n  <thead>\n    <tr style=\"text-align: right;\">\n      <th></th>\n      <th>week_in_year</th>\n      <th>rain_mm</th>\n      <th>snow_cm</th>\n      <th>age_group_20s</th>\n      <th>age_group_30s</th>\n      <th>age_group_40s</th>\n      <th>age_group_50s</th>\n      <th>age_group_60s</th>\n      <th>age_group_70s</th>\n      <th>age_group_80s</th>\n      <th>...</th>\n      <th>case_acquisitioninfo_MISSING INFORMATION</th>\n      <th>case_acquisitioninfo_NO KNOWN EPI LINK</th>\n      <th>case_acquisitioninfo_OB</th>\n      <th>case_acquisitioninfo_TRAVEL</th>\n      <th>status_phu_Control</th>\n      <th>status_phu_Lockdown</th>\n      <th>status_phu_Other</th>\n      <th>status_phu_Protect</th>\n      <th>status_phu_Restrict</th>\n      <th>status_phu_Stay-at-home</th>\n    </tr>\n  </thead>\n  <tbody>\n    <tr>\n      <th>36</th>\n      <td>51</td>\n      <td>0.0</td>\n      <td>0.0</td>\n      <td>0</td>\n      <td>0</td>\n      <td>0</td>\n      <td>0</td>\n      <td>0</td>\n      <td>0</td>\n      <td>1</td>\n      <td>...</td>\n      <td>0</td>\n      <td>0</td>\n      <td>1</td>\n      <td>0</td>\n      <td>1</td>\n      <td>0</td>\n      <td>0</td>\n      <td>0</td>\n      <td>0</td>\n      <td>0</td>\n    </tr>\n    <tr>\n      <th>55</th>\n      <td>51</td>\n      <td>0.0</td>\n      <td>0.0</td>\n      <td>0</td>\n      <td>0</td>\n      <td>0</td>\n      <td>0</td>\n      <td>0</td>\n      <td>0</td>\n      <td>0</td>\n      <td>...</td>\n      <td>0</td>\n      <td>0</td>\n      <td>1</td>\n      <td>0</td>\n      <td>0</td>\n      <td>1</td>\n      <td>0</td>\n      <td>0</td>\n      <td>0</td>\n      <td>0</td>\n    </tr>\n    <tr>\n      <th>143</th>\n      <td>47</td>\n      <td>0.0</td>\n      <td>0.0</td>\n      <td>0</td>\n      <td>0</td>\n      <td>0</td>\n      <td>0</td>\n      <td>0</td>\n      <td>0</td>\n      <td>0</td>\n      <td>...</td>\n      <td>0</td>\n      <td>0</td>\n      <td>1</td>\n      <td>0</td>\n      <td>0</td>\n      <td>0</td>\n      <td>0</td>\n      <td>0</td>\n      <td>1</td>\n      <td>0</td>\n    </tr>\n    <tr>\n      <th>315</th>\n      <td>51</td>\n      <td>0.0</td>\n      <td>0.0</td>\n      <td>0</td>\n      <td>0</td>\n      <td>0</td>\n      <td>0</td>\n      <td>0</td>\n      <td>1</td>\n      <td>0</td>\n      <td>...</td>\n      <td>0</td>\n      <td>0</td>\n      <td>0</td>\n      <td>0</td>\n      <td>0</td>\n      <td>1</td>\n      <td>0</td>\n      <td>0</td>\n      <td>0</td>\n      <td>0</td>\n    </tr>\n    <tr>\n      <th>356</th>\n      <td>51</td>\n      <td>0.0</td>\n      <td>0.0</td>\n      <td>0</td>\n      <td>0</td>\n      <td>0</td>\n      <td>0</td>\n      <td>0</td>\n      <td>0</td>\n      <td>0</td>\n      <td>...</td>\n      <td>0</td>\n      <td>0</td>\n      <td>1</td>\n      <td>0</td>\n      <td>0</td>\n      <td>1</td>\n      <td>0</td>\n      <td>0</td>\n      <td>0</td>\n      <td>0</td>\n    </tr>\n  </tbody>\n</table>\n<p>5 rows × 26 columns</p>\n</div>"
     },
     "execution_count": 18,
     "metadata": {},
     "output_type": "execute_result"
    }
   ],
   "source": [
    "#这个部分做的 one-hot-encoding\n",
    "new_result_df = pd.get_dummies(result_df, prefix=[ \"age_group\",\"client_gender\", \"case_acquisitioninfo\",\n",
    "                                                  \"status_phu\"])\n",
    "new_result_df[\"rain_mm\"] = result_df[\"rain_mm\"]\n",
    "new_result_df[\"snow_cm\"] = result_df[\"snow_cm\"]\n",
    "new_result_df[\"week_in_year\"] = result_df[\"week_in_year\"]\n",
    "#Get the X values\n",
    "X = new_result_df.values\n",
    "new_result_df.head()"
   ],
   "metadata": {
    "collapsed": false,
    "pycharm": {
     "name": "#%%\n"
    }
   }
  },
  {
   "cell_type": "code",
   "execution_count": 19,
   "outputs": [],
   "source": [
    "X_train, X_test, y_train, y_test = train_test_split(X, y, test_size=0.2, shuffle=True, stratify=y)"
   ],
   "metadata": {
    "collapsed": false,
    "pycharm": {
     "name": "#%%\n"
    }
   }
  },
  {
   "cell_type": "code",
   "execution_count": 20,
   "outputs": [
    {
     "name": "stdout",
     "output_type": "stream",
     "text": [
      "Training set Counter({0: 926, 1: 904}) \n",
      "Test set Counter({0: 232, 1: 226}) \n"
     ]
    }
   ],
   "source": [
    "print(\"Training set {} \".format(Counter(y_train)))\n",
    "print(\"Test set {} \".format(Counter(y_test)))"
   ],
   "metadata": {
    "collapsed": false,
    "pycharm": {
     "name": "#%%\n"
    }
   }
  },
  {
   "cell_type": "code",
   "execution_count": 21,
   "outputs": [
    {
     "data": {
      "text/plain": "GradientBoostingClassifier(learning_rate=0.5, max_depth=2, max_features=2,\n                           n_estimators=20, random_state=0)"
     },
     "execution_count": 21,
     "metadata": {},
     "output_type": "execute_result"
    }
   ],
   "source": [
    "dt = GradientBoostingClassifier(n_estimators=20, learning_rate=0.5, max_features=2, max_depth=2, random_state=0)\n",
    "dt.fit(X_train, y_train)"
   ],
   "metadata": {
    "collapsed": false,
    "pycharm": {
     "name": "#%%\n"
    }
   }
  },
  {
   "cell_type": "code",
   "execution_count": 22,
   "outputs": [
    {
     "name": "stdout",
     "output_type": "stream",
     "text": [
      "learning rate= 0.5\n",
      "Recall of Decision Tree 88.50 %\n",
      "precision of Decision Tree 88.50 %\n",
      "Accuracy of Decision Tree 88.65 %\n"
     ]
    }
   ],
   "source": [
    "y_pred = dt.predict(X_test)\n",
    "recall = recall_score(y_pred, y_test) * 100\n",
    "precision = precision_score(y_pred, y_test) * 100\n",
    "accuracy= accuracy_score(y_pred, y_test) * 100\n",
    "print(\"learning rate= 0.5\")\n",
    "print(\"Recall of Decision Tree {:.2f} %\".format(recall))\n",
    "print(\"precision of Decision Tree {:.2f} %\".format(precision))\n",
    "print(\"Accuracy of Decision Tree {:.2f} %\".format(accuracy))\n",
    "\n"
   ],
   "metadata": {
    "collapsed": false,
    "pycharm": {
     "name": "#%%\n"
    }
   }
  }
 ],
 "metadata": {
  "kernelspec": {
   "display_name": "Python 3",
   "language": "python",
   "name": "python3"
  },
  "language_info": {
   "codemirror_mode": {
    "name": "ipython",
    "version": 2
   },
   "file_extension": ".py",
   "mimetype": "text/x-python",
   "name": "python",
   "nbconvert_exporter": "python",
   "pygments_lexer": "ipython2",
   "version": "2.7.6"
  }
 },
 "nbformat": 4,
 "nbformat_minor": 0
}